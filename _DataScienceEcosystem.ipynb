{
 "cells": [
  {
   "cell_type": "markdown",
   "id": "01197412-69db-4694-a0da-92bd5c9ba70a",
   "metadata": {},
   "source": [
    "# Data Science Tools and Ecosystem"
   ]
  },
  {
   "cell_type": "markdown",
   "id": "be172333-f839-4a74-a0d2-e6cce10eef72",
   "metadata": {
    "tags": []
   },
   "source": [
    "*In this notebook, Data Science Tools and Ecosystem are summarized.*"
   ]
  },
  {
   "cell_type": "markdown",
   "id": "644da311-ba38-4410-be68-b158ff340047",
   "metadata": {},
   "source": [
    "***Objectives***\n",
    "* List of data science popular languages\n",
    "* List of the commonly used data science libraries\n",
    "* List of data science tools"
   ]
  },
  {
   "cell_type": "markdown",
   "id": "fdbd060b-09a6-41c6-b7cb-66aad6e32673",
   "metadata": {},
   "source": [
    "***Some of the popular languages that Data Scientists use are:***\n",
    "1. Python\n",
    "2. R\n",
    "3. SQL"
   ]
  },
  {
   "cell_type": "markdown",
   "id": "785e6670-d2c2-4913-9b11-5d87444bcb06",
   "metadata": {},
   "source": [
    "***Some of the commonly used libraries used by Data Scientists include:***\n",
    "1. Pandas\n",
    "2. Numpy\n",
    "3. Scikit-learn"
   ]
  },
  {
   "cell_type": "markdown",
   "id": "b72121fa-2cf1-408b-8a17-84c36bcdd415",
   "metadata": {
    "tags": []
   },
   "source": [
    "| Data Science Tools |\n",
    "| --- |\n",
    "| RStudio | \n",
    "| Apache Spark | \n",
    "| Visual Studio Code | "
   ]
  },
  {
   "cell_type": "markdown",
   "id": "4f93b9fd-ab83-41b3-87a3-2759fc0df6ed",
   "metadata": {},
   "source": [
    "### Below are a few examples of evaluating arithmetic expressions in Python:"
   ]
  },
  {
   "cell_type": "code",
   "execution_count": 13,
   "id": "8f7a86d2-850a-4ef5-a78a-d7f69fcfd197",
   "metadata": {
    "tags": []
   },
   "outputs": [
    {
     "data": {
      "text/plain": [
       "17"
      ]
     },
     "execution_count": 13,
     "metadata": {},
     "output_type": "execute_result"
    }
   ],
   "source": [
    "# This a simple arithmetic expression to mutiply then add integers\n",
    "\n",
    "(3*4)+5"
   ]
  },
  {
   "cell_type": "code",
   "execution_count": 16,
   "id": "eed637a6-4cf2-4966-b3be-5e3758fd9e62",
   "metadata": {
    "tags": []
   },
   "outputs": [
    {
     "name": "stdout",
     "output_type": "stream",
     "text": [
      "3.3333333333333335\n"
     ]
    }
   ],
   "source": [
    "# This will convert 200 minutes to hours by diving by 60\n",
    "minutes = 200 / 60\n",
    "print(minutes)"
   ]
  },
  {
   "cell_type": "markdown",
   "id": "3c5f2f07-2033-44c2-ae04-18da8e24f337",
   "metadata": {},
   "source": [
    "## Author\n",
    "Michael"
   ]
  },
  {
   "cell_type": "code",
   "execution_count": null,
   "id": "e011ebc7-32a8-428b-9627-b5f25aa4dbef",
   "metadata": {},
   "outputs": [],
   "source": []
  }
 ],
 "metadata": {
  "kernelspec": {
   "display_name": "Python",
   "language": "python",
   "name": "conda-env-python-py"
  },
  "language_info": {
   "codemirror_mode": {
    "name": "ipython",
    "version": 3
   },
   "file_extension": ".py",
   "mimetype": "text/x-python",
   "name": "python",
   "nbconvert_exporter": "python",
   "pygments_lexer": "ipython3",
   "version": "3.7.12"
  }
 },
 "nbformat": 4,
 "nbformat_minor": 5
}
